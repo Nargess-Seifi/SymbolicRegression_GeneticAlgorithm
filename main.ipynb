{
 "cells": [
  {
   "cell_type": "code",
   "execution_count": 212,
   "metadata": {},
   "outputs": [],
   "source": [
    "import random\n",
    "import math"
   ]
  },
  {
   "cell_type": "code",
   "execution_count": 213,
   "metadata": {},
   "outputs": [],
   "source": [
    "class Node:\n",
    "    def __init__(self, value):\n",
    "        self.value = value\n",
    "        self.left = None\n",
    "        self.right = None\n",
    "    def copy(self):\n",
    "        new_instance = Node(self.value)\n",
    "        if self.right is not None:\n",
    "            new_instance.right = self.right.copy()\n",
    "        if self.left is not None:\n",
    "            new_instance.left = self.left.copy()\n",
    "        return new_instance"
   ]
  },
  {
   "cell_type": "code",
   "execution_count": 214,
   "metadata": {},
   "outputs": [],
   "source": [
    "def evaluate_tree(tree, values):\n",
    "\n",
    "    if tree == log:\n",
    "        return log(values)\n",
    "    if tree == func3:\n",
    "        return func3(values)\n",
    "\n",
    "    if tree.value == '+':\n",
    "        return evaluate_tree(tree.left, values) + evaluate_tree(tree.right, values)\n",
    "    elif tree.value == '-':\n",
    "        return evaluate_tree(tree.left, values) - evaluate_tree(tree.right, values)\n",
    "    elif tree.value == '*':\n",
    "        return evaluate_tree(tree.left, values) * evaluate_tree(tree.right, values)\n",
    "    if tree.value == '^':\n",
    "        return evaluate_tree(tree.left, values) ** evaluate_tree(tree.right, values)\n",
    "    elif tree.value == '/':\n",
    "        right_val = evaluate_tree(tree.right, values)\n",
    "        # Handle division by zero\n",
    "        return evaluate_tree(tree.left, values) / right_val if right_val != 0 else 10000\n",
    "    elif tree.value == 'cos':\n",
    "        tmp = evaluate_tree(tree.left, values)\n",
    "        if tmp==float('inf'):\n",
    "            return tmp\n",
    "        return math.cos(tmp)\n",
    "    elif tree.value == 'sin':\n",
    "        tmp = evaluate_tree(tree.left, values)\n",
    "        if tmp==float('inf'):\n",
    "            return tmp\n",
    "        return math.sin(tmp)\n",
    "    \n",
    "    else: # Terminal node\n",
    "        if isinstance(tree.value, float):\n",
    "            return tree.value\n",
    "        else:\n",
    "            return float(values[tree.value])"
   ]
  },
  {
   "cell_type": "code",
   "execution_count": 215,
   "metadata": {},
   "outputs": [],
   "source": [
    "def evaluate_fitness(tree, data_points, target_tree):\n",
    "    sum = 0.0\n",
    "    for x in data_points:\n",
    "        # left = (abs(evaluate_tree(tree.left, x) - evaluate_tree(target_tree.left, x)))\n",
    "        # right = abs(evaluate_tree(tree.right, x) - evaluate_tree(target_tree.right, x))\n",
    "        # sum+=left**2 + right**2\n",
    "        sum+= abs(evaluate_tree(tree, x) - evaluate_tree(target_tree, x))**2\n",
    "        # print(x, evaluate_tree(tree, x), evaluate_tree(target_tree, x))\n",
    "    return -math.sqrt(sum)"
   ]
  },
  {
   "cell_type": "code",
   "execution_count": 216,
   "metadata": {},
   "outputs": [],
   "source": [
    "def crossover(par1, par2):\n",
    "    parent1 = par1.copy()\n",
    "    parent2 = par2.copy()\n",
    "    # crossover_point = random.randint(1, 2)\n",
    "    # if crossover_point == 1:\n",
    "    parent1.left, parent2.left = parent2.left, parent1.left\n",
    "    # else:\n",
    "        # parent1.right, parent2.right = parent2.right, parent1.right\n",
    "    return parent1, parent2"
   ]
  },
  {
   "cell_type": "code",
   "execution_count": 217,
   "metadata": {},
   "outputs": [],
   "source": [
    "def mutation(tree, num_input):\n",
    "    vars = ['x', 'y', 'z']\n",
    "    mutate_node = tree\n",
    "    i = 0\n",
    "    tmp = random.randint(1, 7)\n",
    "    while (mutate_node.left is not None or mutate_node.right is not None) and i < tmp:\n",
    "        i+=1\n",
    "        if mutate_node.left is not None and mutate_node.right is not None:\n",
    "            mutate_node = random.choice([mutate_node.left, mutate_node.right])\n",
    "        elif mutate_node.left is not None:\n",
    "            mutate_node = mutate_node.left\n",
    "        else:\n",
    "            mutate_node = mutate_node.right\n",
    "    \n",
    "    mutate_node.value = random.choice(['+', '-', '*', '/','+', '-', '*', '/','cos', 'sin'])\n",
    "\n",
    "    if mutate_node.value in ['sin', 'cos']:\n",
    "        mutate_node.left = Node(random.choice(random.choice(vars[:num_input])))\n",
    "        return tree\n",
    "\n",
    "    r = random.randint(1, 4)\n",
    "    if r ==1:\n",
    "        mutate_node.right = Node(random.choice(random.choice(vars[:num_input])))\n",
    "        mutate_node.left = Node(random.choice(random.choice(vars[:num_input])))\n",
    "    elif r==2:\n",
    "        mutate_node.right = Node(random.choice(random.choice(vars[:num_input])))\n",
    "        mutate_node.left = Node(float(random.randint(0,10)))\n",
    "    elif r==3:\n",
    "        mutate_node.right = Node(float(random.randint(0,10)))\n",
    "        mutate_node.left = Node(random.choice(random.choice(vars[:num_input])))\n",
    "    else:\n",
    "        mutate_node.right = Node(float(random.randint(0,10)))\n",
    "        mutate_node.left = Node(float(random.randint(0,10)))\n",
    "\n",
    "    return tree"
   ]
  },
  {
   "cell_type": "code",
   "execution_count": 218,
   "metadata": {},
   "outputs": [],
   "source": [
    "def initialize_population(population_size, num_input):\n",
    "    population = []\n",
    "    vars = ['x', 'y', 'z']\n",
    "    for _ in range(population_size):\n",
    "        tree = Node(random.choice(['+', '-', '*', '/', 'sin', 'cos']))\n",
    "        tree.left = Node(random.choice(vars[:num_input]))  # Terminal\n",
    "        tree.right = Node(random.choice(vars[:num_input]))  # Terminal\n",
    "        population.append(tree)\n",
    "    return population"
   ]
  },
  {
   "cell_type": "code",
   "execution_count": 219,
   "metadata": {},
   "outputs": [],
   "source": [
    "def GP(dataPoints, population_size, num_generation, target_tree, num_input):\n",
    "    population = initialize_population(population_size, num_input)\n",
    "    for i in range(num_generation):\n",
    "        new_generation = []\n",
    "        for __ in range(int(population_size/2)):\n",
    "            fitness_scores = [evaluate_fitness(individual, dataPoints, target_tree) for individual in population]\n",
    "\n",
    "            # print(\"inja\", max(fitness_scores), i)\n",
    "            if max(fitness_scores)>=-1:\n",
    "                max_score_index = fitness_scores.index(max(fitness_scores))\n",
    "                best_chromosome = population[max_score_index]\n",
    "                return best_chromosome\n",
    "\n",
    "            minn = min(fitness_scores)\n",
    "            positive_fitness_scores = [score + minn for score in fitness_scores]\n",
    "            \n",
    "\n",
    "            total_fitness = sum(positive_fitness_scores)\n",
    "            normalized_fitness = [100*score / total_fitness for score in positive_fitness_scores]\n",
    "            \n",
    "            rand_val = random.randint(1,100)\n",
    "            cumulative_prob = 0\n",
    "            flg = False\n",
    "            for _ in range(population_size):\n",
    "                if cumulative_prob>=rand_val:\n",
    "                    par1 = population[_]\n",
    "                    flg = True\n",
    "                    break\n",
    "                cumulative_prob+=normalized_fitness[_]\n",
    "            \n",
    "            if not flg:\n",
    "                par1 = population[-1]\n",
    "\n",
    "            rand_val = random.randint(1,100)\n",
    "            cumulative_prob = 0\n",
    "            flg = False\n",
    "            for _ in range(population_size):\n",
    "                if cumulative_prob>=rand_val:\n",
    "                    par2 = population[_]\n",
    "                    flg = True\n",
    "                    break\n",
    "                cumulative_prob+=normalized_fitness[_]\n",
    "            if not flg:\n",
    "                par2 = population[-1]\n",
    "            \n",
    "            child1, child2 = crossover(par1, par2)\n",
    "            ev1  = evaluate_fitness(child1, dataPoints, target_tree)\n",
    "            ev2  = evaluate_fitness(child2, dataPoints, target_tree)\n",
    "            if ev1 < ev2:\n",
    "                child = child2\n",
    "            else:\n",
    "                child = child1\n",
    "\n",
    "            prob = random.randint(0, 100)\n",
    "            if prob<25:\n",
    "                child = mutation(child, num_input)\n",
    "            new_generation.append(child)\n",
    "        \n",
    "        new_generation_fitness = [evaluate_fitness(individual, dataPoints, target_tree) for individual in new_generation]\n",
    "\n",
    "        combined_population = population + new_generation\n",
    "        combined_fitness = fitness_scores + new_generation_fitness\n",
    "        combined_data = list(zip(combined_population, combined_fitness))\n",
    "        sorted_data = sorted(combined_data, key=lambda x: x[1], reverse=True)\n",
    "\n",
    "        top_individuals = sorted_data[:population_size]\n",
    "        population, top_fitness = zip(*top_individuals)\n",
    "        population = list(population)\n",
    "    \n",
    "    max_score_index = fitness_scores.index(max(fitness_scores))\n",
    "    best_chromosome = population[max_score_index]\n",
    "    return best_chromosome"
   ]
  },
  {
   "cell_type": "code",
   "execution_count": 220,
   "metadata": {},
   "outputs": [],
   "source": [
    "def print_infix_expression(node):\n",
    "    if node is None:\n",
    "        return \"\"\n",
    "\n",
    "    if node.value in {'+', '-', '*', '/'}:\n",
    "        left_expr = print_infix_expression(node.left)\n",
    "        right_expr = print_infix_expression(node.right)\n",
    "        return \"(\" + left_expr + \" \" + node.value + \" \" + right_expr + \")\"\n",
    "\n",
    "    elif node.value in {'sin', 'cos'}:\n",
    "        return node.value + \"(\" + print_infix_expression(node.left) + \")\"\n",
    "\n",
    "    return str(node.value)"
   ]
  },
  {
   "cell_type": "code",
   "execution_count": 221,
   "metadata": {},
   "outputs": [
    {
     "data": {
      "text/plain": [
       "'(y + x)'"
      ]
     },
     "execution_count": 221,
     "metadata": {},
     "output_type": "execute_result"
    }
   ],
   "source": [
    "root = Node('+')\n",
    "root.right = Node('x')\n",
    "root.left = Node('y')\n",
    "\n",
    "vals = {'x':5, 'y':8, 'z':6}\n",
    "\n",
    "print_infix_expression(root)"
   ]
  },
  {
   "cell_type": "code",
   "execution_count": 222,
   "metadata": {},
   "outputs": [
    {
     "data": {
      "text/plain": [
       "13.0"
      ]
     },
     "execution_count": 222,
     "metadata": {},
     "output_type": "execute_result"
    }
   ],
   "source": [
    "evaluate_tree(root, vals)"
   ]
  },
  {
   "cell_type": "code",
   "execution_count": 223,
   "metadata": {},
   "outputs": [
    {
     "name": "stdout",
     "output_type": "stream",
     "text": [
      "((y * y) + x)\n",
      "69.0\n"
     ]
    }
   ],
   "source": [
    "mutation(root, 2)\n",
    "print(print_infix_expression(root))\n",
    "print(evaluate_tree(root, vals))"
   ]
  },
  {
   "cell_type": "code",
   "execution_count": 224,
   "metadata": {},
   "outputs": [],
   "source": [
    "def linear():\n",
    "    root = Node('+')\n",
    "    mult = Node('*')\n",
    "    root.left = mult\n",
    "    root.right = Node(5.0)\n",
    "    mult.left = Node(3.0)\n",
    "    mult.right = Node('x')\n",
    "\n",
    "    return root\n",
    "\n",
    "def func1():\n",
    "    plus_node = Node(\"+\")\n",
    "    plus_node2 = Node(\"+\")\n",
    "    plus_node3 = Node(\"+\")\n",
    "    mult_node = Node(\"*\")\n",
    "    div_node = Node(\"/\")\n",
    "    minus_node = Node(\"-\")\n",
    "    x_node = Node(\"x\")\n",
    "    y_node = Node(\"y\")\n",
    "    three_node = Node(3.0)\n",
    "    five_node = Node(5.0)\n",
    "    const_node = Node(3.14)\n",
    "    two_node = Node(2.0)\n",
    "\n",
    "    plus_node.left = mult_node\n",
    "    plus_node.right = minus_node\n",
    "\n",
    "    mult_node.left = two_node\n",
    "    mult_node.right = const_node\n",
    "\n",
    "    minus_node.left = plus_node2\n",
    "    minus_node.right = div_node\n",
    "\n",
    "    plus_node2.left = x_node\n",
    "    plus_node2.right = three_node\n",
    "\n",
    "    div_node.left = y_node\n",
    "    div_node.right = plus_node3\n",
    "\n",
    "    plus_node3.right = five_node\n",
    "    plus_node3.left = Node(1.0)\n",
    "\n",
    "    return plus_node\n",
    "\n",
    "def func2():\n",
    "    x_node = Node('x')\n",
    "    y_node = Node('y')\n",
    "    two_node = Node(2.0)\n",
    "\n",
    "    multiply_node = Node('*')\n",
    "    subtract_node = Node('-')\n",
    "\n",
    "    subtract_node.left = x_node\n",
    "    subtract_node.right = multiply_node\n",
    "\n",
    "    multiply_node.left = two_node\n",
    "    multiply_node.right = y_node\n",
    "\n",
    "    root = subtract_node\n",
    "    return root\n",
    "\n",
    "def log(values):\n",
    "    return math.log(abs(values['x']))\n",
    "\n",
    "def func3(values):\n",
    "    if values['x'] <= 0:\n",
    "        return 2**values['y']\n",
    "    if values['x'] <= 50:\n",
    "        return 3 - values['y']\n",
    "    return math.sin(values['y'])\n",
    "\n",
    "def func4():\n",
    "    # sin_node = Node('sin')\n",
    "    # plus_node = Node('+')\n",
    "    # mult_node = Node('*')\n",
    "    # minus_node = Node('-')\n",
    "    # mult_node2 = Node('*')\n",
    "\n",
    "    # plus_node.left = sin_node\n",
    "    # plus_node.right = mult_node\n",
    "\n",
    "    # sin_node.left = Node('x')\n",
    "\n",
    "    # mult_node.left = Node(10.0)\n",
    "    # mult_node.right = minus_node\n",
    "\n",
    "    # minus_node.left = Node('y')\n",
    "    # minus_node.right = mult_node2\n",
    "\n",
    "    # mult_node2.left = Node(5.0)\n",
    "    # mult_node2.right = Node('z')\n",
    "\n",
    "\n",
    "\n",
    "    div_node = Node('/')\n",
    "    mult_node = Node('*')\n",
    "    minus_node = Node('-')\n",
    "    \n",
    "    div_node.right = Node('z')\n",
    "    div_node.left = Node('x')\n",
    "\n",
    "    mult_node.right = Node('y')\n",
    "    mult_node.left = Node(2.0)\n",
    "\n",
    "    minus_node.right = div_node\n",
    "    minus_node.left = mult_node\n",
    "\n",
    "\n",
    "    return minus_node\n",
    "    "
   ]
  },
  {
   "cell_type": "code",
   "execution_count": 225,
   "metadata": {},
   "outputs": [],
   "source": [
    "def generate_dataset(num_points, minn, maxx, num_input):\n",
    "    X = []\n",
    "    for _ in range(num_points):\n",
    "        point = {}\n",
    "        point['x']= random.uniform(minn, maxx)\n",
    "        if num_input >1:\n",
    "            point['y']= random.uniform(minn, maxx)\n",
    "        if num_input>2:\n",
    "            point['z']= random.uniform(minn, maxx)\n",
    "        X.append(point)\n",
    "    return X"
   ]
  },
  {
   "cell_type": "code",
   "execution_count": 226,
   "metadata": {},
   "outputs": [
    {
     "name": "stdout",
     "output_type": "stream",
     "text": [
      "((x + (9.0 - 1.0)) + (x + (x - 3.0)))\n",
      "-2.842170943040401e-14\n"
     ]
    }
   ],
   "source": [
    "linear_data = generate_dataset(100, -100, 100, 1)\n",
    "tree = GP(linear_data, 50, 100, linear(), 1)\n",
    "print(print_infix_expression(tree))\n",
    "print(evaluate_fitness(tree, linear_data, linear()))"
   ]
  },
  {
   "cell_type": "code",
   "execution_count": 228,
   "metadata": {},
   "outputs": [
    {
     "name": "stdout",
     "output_type": "stream",
     "text": [
      "(x + (9.0 - (y / 4.0)))\n",
      "-51.2874470014596\n"
     ]
    }
   ],
   "source": [
    "func1_data = generate_dataset(100, -100, 100, 2)\n",
    "tree = GP(func1_data, 30, 150, func1(), 2) \n",
    "print(print_infix_expression(tree))\n",
    "print(evaluate_fitness(tree, func1_data, func1()))"
   ]
  },
  {
   "cell_type": "code",
   "execution_count": 229,
   "metadata": {},
   "outputs": [
    {
     "name": "stdout",
     "output_type": "stream",
     "text": [
      "((((x - 1.0) + x) + ((x - 1.0) + x)) / x)\n",
      "-9.805309671568008\n"
     ]
    }
   ],
   "source": [
    "log_data = generate_dataset(100, -100, 100, 1)\n",
    "tree = GP(log_data, 30, 150, log, 1)\n",
    "print(print_infix_expression(tree))\n",
    "print(evaluate_fitness(tree, log_data, log))"
   ]
  },
  {
   "cell_type": "code",
   "execution_count": 231,
   "metadata": {},
   "outputs": [
    {
     "name": "stdout",
     "output_type": "stream",
     "text": [
      "cos(x)\n",
      "-2.2838550695761106e+149\n"
     ]
    }
   ],
   "source": [
    "func3_data = generate_dataset(100, -500, 500, 2)\n",
    "tree = GP(func3_data, 50, 200, func3, 2)\n",
    "print(print_infix_expression(tree))\n",
    "print(evaluate_fitness(tree, func3_data, func3))"
   ]
  },
  {
   "cell_type": "code",
   "execution_count": 238,
   "metadata": {},
   "outputs": [
    {
     "name": "stdout",
     "output_type": "stream",
     "text": [
      "(y + (y - (x / z)))\n",
      "-8.377175307253705e-14\n"
     ]
    }
   ],
   "source": [
    "func4_data = generate_dataset(100, -100, 100, 3)\n",
    "tree = GP(func4_data, 50, 250, func4(), 3)\n",
    "print(print_infix_expression(tree))\n",
    "print(evaluate_fitness(tree, func4_data, func4()))"
   ]
  },
  {
   "cell_type": "code",
   "execution_count": null,
   "metadata": {},
   "outputs": [],
   "source": []
  }
 ],
 "metadata": {
  "kernelspec": {
   "display_name": "Python 3",
   "language": "python",
   "name": "python3"
  },
  "language_info": {
   "codemirror_mode": {
    "name": "ipython",
    "version": 3
   },
   "file_extension": ".py",
   "mimetype": "text/x-python",
   "name": "python",
   "nbconvert_exporter": "python",
   "pygments_lexer": "ipython3",
   "version": "3.11.3"
  }
 },
 "nbformat": 4,
 "nbformat_minor": 2
}
