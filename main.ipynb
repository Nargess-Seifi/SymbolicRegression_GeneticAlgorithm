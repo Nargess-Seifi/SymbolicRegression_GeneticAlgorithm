{
 "cells": [
  {
   "cell_type": "code",
   "execution_count": 16,
   "metadata": {},
   "outputs": [],
   "source": [
    "import math\n",
    "import random\n",
    "import numpy as np\n",
    "import pandas as pd"
   ]
  },
  {
   "cell_type": "code",
   "execution_count": 1,
   "metadata": {},
   "outputs": [],
   "source": [
    "class Node:\n",
    "    def __init__(self, value):\n",
    "        self.value = value\n",
    "        self.left = None\n",
    "        self.right = None\n",
    "    def copy(self):\n",
    "        new_instance = Node(self.value)\n",
    "        if self.right is not None:\n",
    "            new_instance.right = self.right.copy()\n",
    "        if self.left is not None:\n",
    "            new_instance.left = self.left.copy()\n",
    "        return new_instance"
   ]
  },
  {
   "cell_type": "code",
   "execution_count": 2,
   "metadata": {},
   "outputs": [],
   "source": [
    "def evaluate_tree(tree, values):\n",
    "\n",
    "    if tree == log:\n",
    "        return np.log(np.abs(values['x']))\n",
    "    if tree == func3:\n",
    "        return func3(values)\n",
    "\n",
    "    if tree.value == '+':\n",
    "        return evaluate_tree(tree.left, values) + evaluate_tree(tree.right, values)\n",
    "    elif tree.value == '-':\n",
    "        return evaluate_tree(tree.left, values) - evaluate_tree(tree.right, values)\n",
    "    elif tree.value == '*':\n",
    "        return evaluate_tree(tree.left, values) * evaluate_tree(tree.right, values)\n",
    "    if tree.value == '^':\n",
    "        return evaluate_tree(tree.left, values) ** evaluate_tree(tree.right, values)\n",
    "    elif tree.value == '/':\n",
    "        right_val = evaluate_tree(tree.right, values)\n",
    "        # Handle division by zero with numpy where division by zero can result in np.inf\n",
    "        return np.divide(evaluate_tree(tree.left, values), right_val, where=(right_val!=0), out=np.full_like(right_val, 10000))\n",
    "    elif tree.value == 'cos':\n",
    "        return np.cos(evaluate_tree(tree.left, values))\n",
    "    elif tree.value == 'sin':\n",
    "        return np.sin(evaluate_tree(tree.left, values))\n",
    "    \n",
    "    else: # Terminal node\n",
    "        if isinstance(tree.value, float):\n",
    "            return tree.value\n",
    "        else:\n",
    "            return np.array(values[tree.value], dtype=np.float64)"
   ]
  },
  {
   "cell_type": "code",
   "execution_count": 3,
   "metadata": {},
   "outputs": [],
   "source": [
    "def evaluate_fitness(tree, data_points, target_tree):\n",
    "    errors = np.zeros(len(data_points))\n",
    "    for i, x in data_points.iterrows():\n",
    "        errors[i] = (evaluate_tree(tree, x) - evaluate_tree(target_tree, x))**2\n",
    "    return -np.sqrt(np.sum(errors))"
   ]
  },
  {
   "cell_type": "code",
   "execution_count": 4,
   "metadata": {},
   "outputs": [],
   "source": [
    "def generate_dataset(num_points, minn, maxx, num_input):\n",
    "    data = {}\n",
    "    data['x'] = np.random.uniform(minn, maxx, num_points)\n",
    "    if num_input > 1:\n",
    "        data['y'] = np.random.uniform(minn, maxx, num_points)\n",
    "    if num_input > 2:\n",
    "        data['z'] = np.random.uniform(minn, maxx, num_points)\n",
    "    return pd.DataFrame(data)"
   ]
  },
  {
   "cell_type": "code",
   "execution_count": 5,
   "metadata": {},
   "outputs": [],
   "source": [
    "def crossover(par1, par2):\n",
    "    parent1 = par1.copy()\n",
    "    parent2 = par2.copy()\n",
    "    # crossover_point = random.randint(1, 2)\n",
    "    # if crossover_point == 1:\n",
    "    parent1.left, parent2.left = parent2.left, parent1.left\n",
    "    # else:\n",
    "        # parent1.right, parent2.right = parent2.right, parent1.right\n",
    "    return parent1, parent2"
   ]
  },
  {
   "cell_type": "code",
   "execution_count": 6,
   "metadata": {},
   "outputs": [],
   "source": [
    "def mutation(tree, num_input):\n",
    "    vars = ['x', 'y', 'z']\n",
    "    mutate_node = tree\n",
    "    i = 0\n",
    "    tmp = random.randint(1, 7)\n",
    "    while (mutate_node.left is not None or mutate_node.right is not None) and i < tmp:\n",
    "        i+=1\n",
    "        if mutate_node.left is not None and mutate_node.right is not None:\n",
    "            mutate_node = random.choice([mutate_node.left, mutate_node.right])\n",
    "        elif mutate_node.left is not None:\n",
    "            mutate_node = mutate_node.left\n",
    "        else:\n",
    "            mutate_node = mutate_node.right\n",
    "    \n",
    "    mutate_node.value = random.choice(['+', '-', '*', '/','+', '-', '*', '/','cos', 'sin'])\n",
    "\n",
    "    if mutate_node.value in ['sin', 'cos']:\n",
    "        mutate_node.left = Node(random.choice(random.choice(vars[:num_input])))\n",
    "        return tree\n",
    "\n",
    "    r = random.randint(1, 4)\n",
    "    if r ==1:\n",
    "        mutate_node.right = Node(random.choice(random.choice(vars[:num_input])))\n",
    "        mutate_node.left = Node(random.choice(random.choice(vars[:num_input])))\n",
    "    elif r==2:\n",
    "        mutate_node.right = Node(random.choice(random.choice(vars[:num_input])))\n",
    "        mutate_node.left = Node(float(random.randint(0,10)))\n",
    "    elif r==3:\n",
    "        mutate_node.right = Node(float(random.randint(0,10)))\n",
    "        mutate_node.left = Node(random.choice(random.choice(vars[:num_input])))\n",
    "    else:\n",
    "        mutate_node.right = Node(float(random.randint(0,10)))\n",
    "        mutate_node.left = Node(float(random.randint(0,10)))\n",
    "\n",
    "    return tree"
   ]
  },
  {
   "cell_type": "code",
   "execution_count": 7,
   "metadata": {},
   "outputs": [],
   "source": [
    "def initialize_population(population_size, num_input):\n",
    "    population = []\n",
    "    vars = ['x', 'y', 'z']\n",
    "    for _ in range(population_size):\n",
    "        tree = Node(random.choice(['+', '-', '*', '/', 'sin', 'cos']))\n",
    "        tree.left = Node(random.choice(vars[:num_input]))  # Terminal\n",
    "        tree.right = Node(random.choice(vars[:num_input]))  # Terminal\n",
    "        population.append(tree)\n",
    "    return population"
   ]
  },
  {
   "cell_type": "code",
   "execution_count": 9,
   "metadata": {},
   "outputs": [],
   "source": [
    "def GP(data_points, population_size, num_generation, target_tree, num_input):\n",
    "    population = initialize_population(population_size, num_input)\n",
    "    for i in range(num_generation):\n",
    "        print(\"here\")\n",
    "        new_generation = []\n",
    "        for __ in range(int(population_size / 2)):\n",
    "            fitness_scores = [evaluate_fitness(individual, data_points, target_tree) for individual in population]\n",
    "\n",
    "            if max(fitness_scores) >= -1:\n",
    "                max_score_index = fitness_scores.index(max(fitness_scores))\n",
    "                best_chromosome = population[max_score_index]\n",
    "                return best_chromosome\n",
    "\n",
    "            minn = min(fitness_scores)\n",
    "            positive_fitness_scores = [score + minn for score in fitness_scores]\n",
    "\n",
    "            total_fitness = sum(positive_fitness_scores)\n",
    "            normalized_fitness = [100 * score / total_fitness for score in positive_fitness_scores]\n",
    "\n",
    "            rand_val = random.randint(1, 100)\n",
    "            cumulative_prob = 0\n",
    "            flg = False\n",
    "            for _ in range(population_size):\n",
    "                if cumulative_prob >= rand_val:\n",
    "                    par1 = population[_]\n",
    "                    flg = True\n",
    "                    break\n",
    "                cumulative_prob += normalized_fitness[_]\n",
    "\n",
    "            if not flg:\n",
    "                par1 = population[-1]\n",
    "\n",
    "            rand_val = random.randint(1, 100)\n",
    "            cumulative_prob = 0\n",
    "            flg = False\n",
    "            for _ in range(population_size):\n",
    "                if cumulative_prob >= rand_val:\n",
    "                    par2 = population[_]\n",
    "                    flg = True\n",
    "                    break\n",
    "                cumulative_prob += normalized_fitness[_]\n",
    "            if not flg:\n",
    "                par2 = population[-1]\n",
    "\n",
    "            child1, child2 = crossover(par1, par2)\n",
    "            ev1 = evaluate_fitness(child1, data_points, target_tree)\n",
    "            ev2 = evaluate_fitness(child2, data_points, target_tree)\n",
    "            child = child2 if ev1 < ev2 else child1\n",
    "\n",
    "            prob = random.randint(0, 100)\n",
    "            if prob < 25:\n",
    "                child = mutation(child, num_input)\n",
    "            new_generation.append(child)\n",
    "\n",
    "        new_generation_fitness = [evaluate_fitness(individual, data_points, target_tree) for individual in new_generation]\n",
    "\n",
    "        combined_population = population + new_generation\n",
    "        combined_fitness = fitness_scores + new_generation_fitness\n",
    "        combined_data = list(zip(combined_population, combined_fitness))\n",
    "        sorted_data = sorted(combined_data, key=lambda x: x[1], reverse=True)\n",
    "\n",
    "        top_individuals = sorted_data[:population_size]\n",
    "        population, top_fitness = zip(*top_individuals)\n",
    "        population = list(population)\n",
    "\n",
    "    max_score_index = fitness_scores.index(max(fitness_scores))\n",
    "    best_chromosome = population[max_score_index]\n",
    "    return best_chromosome"
   ]
  },
  {
   "cell_type": "code",
   "execution_count": 10,
   "metadata": {},
   "outputs": [],
   "source": [
    "# Print infix expression for visualization\n",
    "def print_infix_expression(node):\n",
    "    if node is None:\n",
    "        return \"\"\n",
    "\n",
    "    if node.value in {'+', '-', '*', '/'}:\n",
    "        left_expr = print_infix_expression(node.left)\n",
    "        right_expr = print_infix_expression(node.right)\n",
    "        return \"(\" + left_expr + \" \" + node.value + \" \" + right_expr + \")\"\n",
    "\n",
    "    elif node.value in {'sin', 'cos'}:\n",
    "        return node.value + \"(\" + print_infix_expression(node.left) + \")\"\n",
    "\n",
    "    return str(node.value)"
   ]
  },
  {
   "cell_type": "code",
   "execution_count": 11,
   "metadata": {},
   "outputs": [
    {
     "data": {
      "text/plain": [
       "'(y + x)'"
      ]
     },
     "execution_count": 11,
     "metadata": {},
     "output_type": "execute_result"
    }
   ],
   "source": [
    "root = Node('+')\n",
    "root.right = Node('x')\n",
    "root.left = Node('y')\n",
    "\n",
    "vals = {'x':5, 'y':8, 'z':6}\n",
    "\n",
    "print_infix_expression(root)"
   ]
  },
  {
   "cell_type": "code",
   "execution_count": 17,
   "metadata": {},
   "outputs": [
    {
     "data": {
      "text/plain": [
       "np.float64(13.0)"
      ]
     },
     "execution_count": 17,
     "metadata": {},
     "output_type": "execute_result"
    }
   ],
   "source": [
    "evaluate_tree(root, vals)"
   ]
  },
  {
   "cell_type": "code",
   "execution_count": 18,
   "metadata": {},
   "outputs": [
    {
     "name": "stdout",
     "output_type": "stream",
     "text": [
      "((x * 5.0) + x)\n",
      "30.0\n"
     ]
    }
   ],
   "source": [
    "mutation(root, 2)\n",
    "print(print_infix_expression(root))\n",
    "print(evaluate_tree(root, vals))"
   ]
  },
  {
   "cell_type": "code",
   "execution_count": 14,
   "metadata": {},
   "outputs": [],
   "source": [
    "def linear():\n",
    "    root = Node('+')\n",
    "    mult = Node('*')\n",
    "    root.left = mult\n",
    "    root.right = Node(5.0)\n",
    "    mult.left = Node(3.0)\n",
    "    mult.right = Node('x')\n",
    "\n",
    "    return root\n",
    "\n",
    "def func1():\n",
    "    plus_node = Node(\"+\")\n",
    "    plus_node2 = Node(\"+\")\n",
    "    plus_node3 = Node(\"+\")\n",
    "    mult_node = Node(\"*\")\n",
    "    div_node = Node(\"/\")\n",
    "    minus_node = Node(\"-\")\n",
    "    x_node = Node(\"x\")\n",
    "    y_node = Node(\"y\")\n",
    "    three_node = Node(3.0)\n",
    "    five_node = Node(5.0)\n",
    "    const_node = Node(3.14)\n",
    "    two_node = Node(2.0)\n",
    "\n",
    "    plus_node.left = mult_node\n",
    "    plus_node.right = minus_node\n",
    "\n",
    "    mult_node.left = two_node\n",
    "    mult_node.right = const_node\n",
    "\n",
    "    minus_node.left = plus_node2\n",
    "    minus_node.right = div_node\n",
    "\n",
    "    plus_node2.left = x_node\n",
    "    plus_node2.right = three_node\n",
    "\n",
    "    div_node.left = y_node\n",
    "    div_node.right = plus_node3\n",
    "\n",
    "    plus_node3.right = five_node\n",
    "    plus_node3.left = Node(1.0)\n",
    "\n",
    "    return plus_node\n",
    "\n",
    "def func2():\n",
    "    x_node = Node('x')\n",
    "    y_node = Node('y')\n",
    "    two_node = Node(2.0)\n",
    "\n",
    "    multiply_node = Node('*')\n",
    "    subtract_node = Node('-')\n",
    "\n",
    "    subtract_node.left = x_node\n",
    "    subtract_node.right = multiply_node\n",
    "\n",
    "    multiply_node.left = two_node\n",
    "    multiply_node.right = y_node\n",
    "\n",
    "    root = subtract_node\n",
    "    return root\n",
    "\n",
    "def log(values):\n",
    "    return math.log(abs(values['x']))\n",
    "\n",
    "def func3(values):\n",
    "    if values['x'] <= 0:\n",
    "        return 2**values['y']\n",
    "    if values['x'] <= 50:\n",
    "        return 3 - values['y']\n",
    "    return math.sin(values['y'])\n",
    "\n",
    "def func4():\n",
    "    # sin_node = Node('sin')\n",
    "    # plus_node = Node('+')\n",
    "    # mult_node = Node('*')\n",
    "    # minus_node = Node('-')\n",
    "    # mult_node2 = Node('*')\n",
    "\n",
    "    # plus_node.left = sin_node\n",
    "    # plus_node.right = mult_node\n",
    "\n",
    "    # sin_node.left = Node('x')\n",
    "\n",
    "    # mult_node.left = Node(10.0)\n",
    "    # mult_node.right = minus_node\n",
    "\n",
    "    # minus_node.left = Node('y')\n",
    "    # minus_node.right = mult_node2\n",
    "\n",
    "    # mult_node2.left = Node(5.0)\n",
    "    # mult_node2.right = Node('z')\n",
    "\n",
    "\n",
    "\n",
    "    div_node = Node('/')\n",
    "    mult_node = Node('*')\n",
    "    minus_node = Node('-')\n",
    "    \n",
    "    div_node.right = Node('z')\n",
    "    div_node.left = Node('x')\n",
    "\n",
    "    mult_node.right = Node('y')\n",
    "    mult_node.left = Node(2.0)\n",
    "\n",
    "    minus_node.right = div_node\n",
    "    minus_node.left = mult_node\n",
    "\n",
    "\n",
    "    return minus_node\n",
    "    "
   ]
  },
  {
   "cell_type": "code",
   "execution_count": 225,
   "metadata": {},
   "outputs": [],
   "source": [
    "def generate_dataset(num_points, minn, maxx, num_input):\n",
    "    X = []\n",
    "    for _ in range(num_points):\n",
    "        point = {}\n",
    "        point['x']= random.uniform(minn, maxx)\n",
    "        if num_input >1:\n",
    "            point['y']= random.uniform(minn, maxx)\n",
    "        if num_input>2:\n",
    "            point['z']= random.uniform(minn, maxx)\n",
    "        X.append(point)\n",
    "    return X"
   ]
  },
  {
   "cell_type": "code",
   "execution_count": 19,
   "metadata": {},
   "outputs": [
    {
     "name": "stdout",
     "output_type": "stream",
     "text": [
      "here\n"
     ]
    },
    {
     "ename": "KeyboardInterrupt",
     "evalue": "",
     "output_type": "error",
     "traceback": [
      "\u001b[0;31m---------------------------------------------------------------------------\u001b[0m",
      "\u001b[0;31mKeyboardInterrupt\u001b[0m                         Traceback (most recent call last)",
      "Cell \u001b[0;32mIn[19], line 2\u001b[0m\n\u001b[1;32m      1\u001b[0m linear_data \u001b[38;5;241m=\u001b[39m generate_dataset(\u001b[38;5;241m100\u001b[39m, \u001b[38;5;241m-\u001b[39m\u001b[38;5;241m100\u001b[39m, \u001b[38;5;241m100\u001b[39m, \u001b[38;5;241m1\u001b[39m)\n\u001b[0;32m----> 2\u001b[0m tree \u001b[38;5;241m=\u001b[39m \u001b[43mGP\u001b[49m\u001b[43m(\u001b[49m\u001b[43mlinear_data\u001b[49m\u001b[43m,\u001b[49m\u001b[43m \u001b[49m\u001b[38;5;241;43m50\u001b[39;49m\u001b[43m,\u001b[49m\u001b[43m \u001b[49m\u001b[38;5;241;43m100\u001b[39;49m\u001b[43m,\u001b[49m\u001b[43m \u001b[49m\u001b[43mlinear\u001b[49m\u001b[43m(\u001b[49m\u001b[43m)\u001b[49m\u001b[43m,\u001b[49m\u001b[43m \u001b[49m\u001b[38;5;241;43m1\u001b[39;49m\u001b[43m)\u001b[49m\n\u001b[1;32m      3\u001b[0m \u001b[38;5;28mprint\u001b[39m(print_infix_expression(tree))\n\u001b[1;32m      4\u001b[0m \u001b[38;5;28mprint\u001b[39m(evaluate_fitness(tree, linear_data, linear()))\n",
      "Cell \u001b[0;32mIn[9], line 46\u001b[0m, in \u001b[0;36mGP\u001b[0;34m(data_points, population_size, num_generation, target_tree, num_input)\u001b[0m\n\u001b[1;32m     43\u001b[0m     par2 \u001b[38;5;241m=\u001b[39m population[\u001b[38;5;241m-\u001b[39m\u001b[38;5;241m1\u001b[39m]\n\u001b[1;32m     45\u001b[0m child1, child2 \u001b[38;5;241m=\u001b[39m crossover(par1, par2)\n\u001b[0;32m---> 46\u001b[0m ev1 \u001b[38;5;241m=\u001b[39m \u001b[43mevaluate_fitness\u001b[49m\u001b[43m(\u001b[49m\u001b[43mchild1\u001b[49m\u001b[43m,\u001b[49m\u001b[43m \u001b[49m\u001b[43mdata_points\u001b[49m\u001b[43m,\u001b[49m\u001b[43m \u001b[49m\u001b[43mtarget_tree\u001b[49m\u001b[43m)\u001b[49m\n\u001b[1;32m     47\u001b[0m ev2 \u001b[38;5;241m=\u001b[39m evaluate_fitness(child2, data_points, target_tree)\n\u001b[1;32m     48\u001b[0m child \u001b[38;5;241m=\u001b[39m child2 \u001b[38;5;28;01mif\u001b[39;00m ev1 \u001b[38;5;241m<\u001b[39m ev2 \u001b[38;5;28;01melse\u001b[39;00m child1\n",
      "Cell \u001b[0;32mIn[3], line 3\u001b[0m, in \u001b[0;36mevaluate_fitness\u001b[0;34m(tree, data_points, target_tree)\u001b[0m\n\u001b[1;32m      1\u001b[0m \u001b[38;5;28;01mdef\u001b[39;00m \u001b[38;5;21mevaluate_fitness\u001b[39m(tree, data_points, target_tree):\n\u001b[1;32m      2\u001b[0m     errors \u001b[38;5;241m=\u001b[39m np\u001b[38;5;241m.\u001b[39mzeros(\u001b[38;5;28mlen\u001b[39m(data_points))\n\u001b[0;32m----> 3\u001b[0m     \u001b[38;5;28;01mfor\u001b[39;00m i, x \u001b[38;5;129;01min\u001b[39;00m data_points\u001b[38;5;241m.\u001b[39miterrows():\n\u001b[1;32m      4\u001b[0m         errors[i] \u001b[38;5;241m=\u001b[39m (evaluate_tree(tree, x) \u001b[38;5;241m-\u001b[39m evaluate_tree(target_tree, x))\u001b[38;5;241m*\u001b[39m\u001b[38;5;241m*\u001b[39m\u001b[38;5;241m2\u001b[39m\n\u001b[1;32m      5\u001b[0m     \u001b[38;5;28;01mreturn\u001b[39;00m \u001b[38;5;241m-\u001b[39mnp\u001b[38;5;241m.\u001b[39msqrt(np\u001b[38;5;241m.\u001b[39msum(errors))\n",
      "File \u001b[0;32m~/.local/lib/python3.10/site-packages/pandas/core/frame.py:1554\u001b[0m, in \u001b[0;36mDataFrame.iterrows\u001b[0;34m(self)\u001b[0m\n\u001b[1;32m   1552\u001b[0m using_cow \u001b[38;5;241m=\u001b[39m using_copy_on_write()\n\u001b[1;32m   1553\u001b[0m \u001b[38;5;28;01mfor\u001b[39;00m k, v \u001b[38;5;129;01min\u001b[39;00m \u001b[38;5;28mzip\u001b[39m(\u001b[38;5;28mself\u001b[39m\u001b[38;5;241m.\u001b[39mindex, \u001b[38;5;28mself\u001b[39m\u001b[38;5;241m.\u001b[39mvalues):\n\u001b[0;32m-> 1554\u001b[0m     s \u001b[38;5;241m=\u001b[39m \u001b[43mklass\u001b[49m\u001b[43m(\u001b[49m\u001b[43mv\u001b[49m\u001b[43m,\u001b[49m\u001b[43m \u001b[49m\u001b[43mindex\u001b[49m\u001b[38;5;241;43m=\u001b[39;49m\u001b[43mcolumns\u001b[49m\u001b[43m,\u001b[49m\u001b[43m \u001b[49m\u001b[43mname\u001b[49m\u001b[38;5;241;43m=\u001b[39;49m\u001b[43mk\u001b[49m\u001b[43m)\u001b[49m\u001b[38;5;241m.\u001b[39m__finalize__(\u001b[38;5;28mself\u001b[39m)\n\u001b[1;32m   1555\u001b[0m     \u001b[38;5;28;01mif\u001b[39;00m using_cow \u001b[38;5;129;01mand\u001b[39;00m \u001b[38;5;28mself\u001b[39m\u001b[38;5;241m.\u001b[39m_mgr\u001b[38;5;241m.\u001b[39mis_single_block:\n\u001b[1;32m   1556\u001b[0m         s\u001b[38;5;241m.\u001b[39m_mgr\u001b[38;5;241m.\u001b[39madd_references(\u001b[38;5;28mself\u001b[39m\u001b[38;5;241m.\u001b[39m_mgr)  \u001b[38;5;66;03m# type: ignore[arg-type]\u001b[39;00m\n",
      "File \u001b[0;32m~/.local/lib/python3.10/site-packages/pandas/core/series.py:588\u001b[0m, in \u001b[0;36mSeries.__init__\u001b[0;34m(self, data, index, dtype, name, copy, fastpath)\u001b[0m\n\u001b[1;32m    586\u001b[0m manager \u001b[38;5;241m=\u001b[39m _get_option(\u001b[38;5;124m\"\u001b[39m\u001b[38;5;124mmode.data_manager\u001b[39m\u001b[38;5;124m\"\u001b[39m, silent\u001b[38;5;241m=\u001b[39m\u001b[38;5;28;01mTrue\u001b[39;00m)\n\u001b[1;32m    587\u001b[0m \u001b[38;5;28;01mif\u001b[39;00m manager \u001b[38;5;241m==\u001b[39m \u001b[38;5;124m\"\u001b[39m\u001b[38;5;124mblock\u001b[39m\u001b[38;5;124m\"\u001b[39m:\n\u001b[0;32m--> 588\u001b[0m     data \u001b[38;5;241m=\u001b[39m \u001b[43mSingleBlockManager\u001b[49m\u001b[38;5;241;43m.\u001b[39;49m\u001b[43mfrom_array\u001b[49m\u001b[43m(\u001b[49m\u001b[43mdata\u001b[49m\u001b[43m,\u001b[49m\u001b[43m \u001b[49m\u001b[43mindex\u001b[49m\u001b[43m,\u001b[49m\u001b[43m \u001b[49m\u001b[43mrefs\u001b[49m\u001b[38;5;241;43m=\u001b[39;49m\u001b[43mrefs\u001b[49m\u001b[43m)\u001b[49m\n\u001b[1;32m    589\u001b[0m \u001b[38;5;28;01melif\u001b[39;00m manager \u001b[38;5;241m==\u001b[39m \u001b[38;5;124m\"\u001b[39m\u001b[38;5;124marray\u001b[39m\u001b[38;5;124m\"\u001b[39m:\n\u001b[1;32m    590\u001b[0m     data \u001b[38;5;241m=\u001b[39m SingleArrayManager\u001b[38;5;241m.\u001b[39mfrom_array(data, index)\n",
      "File \u001b[0;32m~/.local/lib/python3.10/site-packages/pandas/core/internals/managers.py:1870\u001b[0m, in \u001b[0;36mSingleBlockManager.from_array\u001b[0;34m(cls, array, index, refs)\u001b[0m\n\u001b[1;32m   1863\u001b[0m \u001b[38;5;129m@classmethod\u001b[39m\n\u001b[1;32m   1864\u001b[0m \u001b[38;5;28;01mdef\u001b[39;00m \u001b[38;5;21mfrom_array\u001b[39m(\n\u001b[1;32m   1865\u001b[0m     \u001b[38;5;28mcls\u001b[39m, array: ArrayLike, index: Index, refs: BlockValuesRefs \u001b[38;5;241m|\u001b[39m \u001b[38;5;28;01mNone\u001b[39;00m \u001b[38;5;241m=\u001b[39m \u001b[38;5;28;01mNone\u001b[39;00m\n\u001b[1;32m   1866\u001b[0m ) \u001b[38;5;241m-\u001b[39m\u001b[38;5;241m>\u001b[39m SingleBlockManager:\n\u001b[1;32m   1867\u001b[0m \u001b[38;5;250m    \u001b[39m\u001b[38;5;124;03m\"\"\"\u001b[39;00m\n\u001b[1;32m   1868\u001b[0m \u001b[38;5;124;03m    Constructor for if we have an array that is not yet a Block.\u001b[39;00m\n\u001b[1;32m   1869\u001b[0m \u001b[38;5;124;03m    \"\"\"\u001b[39;00m\n\u001b[0;32m-> 1870\u001b[0m     array \u001b[38;5;241m=\u001b[39m \u001b[43mmaybe_coerce_values\u001b[49m\u001b[43m(\u001b[49m\u001b[43marray\u001b[49m\u001b[43m)\u001b[49m\n\u001b[1;32m   1871\u001b[0m     bp \u001b[38;5;241m=\u001b[39m BlockPlacement(\u001b[38;5;28mslice\u001b[39m(\u001b[38;5;241m0\u001b[39m, \u001b[38;5;28mlen\u001b[39m(index)))\n\u001b[1;32m   1872\u001b[0m     block \u001b[38;5;241m=\u001b[39m new_block(array, placement\u001b[38;5;241m=\u001b[39mbp, ndim\u001b[38;5;241m=\u001b[39m\u001b[38;5;241m1\u001b[39m, refs\u001b[38;5;241m=\u001b[39mrefs)\n",
      "File \u001b[0;32m~/.local/lib/python3.10/site-packages/pandas/core/internals/blocks.py:2662\u001b[0m, in \u001b[0;36mmaybe_coerce_values\u001b[0;34m(values)\u001b[0m\n\u001b[1;32m   2659\u001b[0m \u001b[38;5;66;03m# Caller is responsible for ensuring NumpyExtensionArray is already extracted.\u001b[39;00m\n\u001b[1;32m   2661\u001b[0m \u001b[38;5;28;01mif\u001b[39;00m \u001b[38;5;28misinstance\u001b[39m(values, np\u001b[38;5;241m.\u001b[39mndarray):\n\u001b[0;32m-> 2662\u001b[0m     values \u001b[38;5;241m=\u001b[39m \u001b[43mensure_wrapped_if_datetimelike\u001b[49m\u001b[43m(\u001b[49m\u001b[43mvalues\u001b[49m\u001b[43m)\u001b[49m\n\u001b[1;32m   2664\u001b[0m     \u001b[38;5;28;01mif\u001b[39;00m \u001b[38;5;28missubclass\u001b[39m(values\u001b[38;5;241m.\u001b[39mdtype\u001b[38;5;241m.\u001b[39mtype, \u001b[38;5;28mstr\u001b[39m):\n\u001b[1;32m   2665\u001b[0m         values \u001b[38;5;241m=\u001b[39m np\u001b[38;5;241m.\u001b[39marray(values, dtype\u001b[38;5;241m=\u001b[39m\u001b[38;5;28mobject\u001b[39m)\n",
      "File \u001b[0;32m~/.local/lib/python3.10/site-packages/pandas/core/construction.py:492\u001b[0m, in \u001b[0;36mensure_wrapped_if_datetimelike\u001b[0;34m(arr)\u001b[0m\n\u001b[1;32m    489\u001b[0m     dtype \u001b[38;5;241m=\u001b[39m get_supported_dtype(arr\u001b[38;5;241m.\u001b[39mdtype)\n\u001b[1;32m    490\u001b[0m     \u001b[38;5;28;01mreturn\u001b[39;00m DatetimeArray\u001b[38;5;241m.\u001b[39m_from_sequence(arr, dtype\u001b[38;5;241m=\u001b[39mdtype)\n\u001b[0;32m--> 492\u001b[0m \u001b[38;5;28;01melif\u001b[39;00m arr\u001b[38;5;241m.\u001b[39mdtype\u001b[38;5;241m.\u001b[39mkind \u001b[38;5;241m==\u001b[39m \u001b[38;5;124m\"\u001b[39m\u001b[38;5;124mm\u001b[39m\u001b[38;5;124m\"\u001b[39m:\n\u001b[1;32m    493\u001b[0m     \u001b[38;5;28;01mfrom\u001b[39;00m \u001b[38;5;21;01mpandas\u001b[39;00m\u001b[38;5;21;01m.\u001b[39;00m\u001b[38;5;21;01mcore\u001b[39;00m\u001b[38;5;21;01m.\u001b[39;00m\u001b[38;5;21;01marrays\u001b[39;00m \u001b[38;5;28;01mimport\u001b[39;00m TimedeltaArray\n\u001b[1;32m    495\u001b[0m     dtype \u001b[38;5;241m=\u001b[39m get_supported_dtype(arr\u001b[38;5;241m.\u001b[39mdtype)\n",
      "\u001b[0;31mKeyboardInterrupt\u001b[0m: "
     ]
    }
   ],
   "source": [
    "linear_data = generate_dataset(100, -100, 100, 1)\n",
    "tree = GP(linear_data, 50, 100, linear(), 1)\n",
    "print(print_infix_expression(tree))\n",
    "print(evaluate_fitness(tree, linear_data, linear()))"
   ]
  },
  {
   "cell_type": "code",
   "execution_count": 228,
   "metadata": {},
   "outputs": [
    {
     "name": "stdout",
     "output_type": "stream",
     "text": [
      "(x + (9.0 - (y / 4.0)))\n",
      "-51.2874470014596\n"
     ]
    }
   ],
   "source": [
    "func1_data = generate_dataset(100, -100, 100, 2)\n",
    "tree = GP(func1_data, 30, 150, func1(), 2) \n",
    "print(print_infix_expression(tree))\n",
    "print(evaluate_fitness(tree, func1_data, func1()))"
   ]
  },
  {
   "cell_type": "code",
   "execution_count": 229,
   "metadata": {},
   "outputs": [
    {
     "name": "stdout",
     "output_type": "stream",
     "text": [
      "((((x - 1.0) + x) + ((x - 1.0) + x)) / x)\n",
      "-9.805309671568008\n"
     ]
    }
   ],
   "source": [
    "log_data = generate_dataset(100, -100, 100, 1)\n",
    "tree = GP(log_data, 30, 150, log, 1)\n",
    "print(print_infix_expression(tree))\n",
    "print(evaluate_fitness(tree, log_data, log))"
   ]
  },
  {
   "cell_type": "code",
   "execution_count": 231,
   "metadata": {},
   "outputs": [
    {
     "name": "stdout",
     "output_type": "stream",
     "text": [
      "cos(x)\n",
      "-2.2838550695761106e+149\n"
     ]
    }
   ],
   "source": [
    "func3_data = generate_dataset(100, -500, 500, 2)\n",
    "tree = GP(func3_data, 50, 200, func3, 2)\n",
    "print(print_infix_expression(tree))\n",
    "print(evaluate_fitness(tree, func3_data, func3))"
   ]
  },
  {
   "cell_type": "code",
   "execution_count": 238,
   "metadata": {},
   "outputs": [
    {
     "name": "stdout",
     "output_type": "stream",
     "text": [
      "(y + (y - (x / z)))\n",
      "-8.377175307253705e-14\n"
     ]
    }
   ],
   "source": [
    "func4_data = generate_dataset(100, -100, 100, 3)\n",
    "tree = GP(func4_data, 50, 250, func4(), 3)\n",
    "print(print_infix_expression(tree))\n",
    "print(evaluate_fitness(tree, func4_data, func4()))"
   ]
  }
 ],
 "metadata": {
  "kernelspec": {
   "display_name": "Python 3",
   "language": "python",
   "name": "python3"
  },
  "language_info": {
   "codemirror_mode": {
    "name": "ipython",
    "version": 3
   },
   "file_extension": ".py",
   "mimetype": "text/x-python",
   "name": "python",
   "nbconvert_exporter": "python",
   "pygments_lexer": "ipython3",
   "version": "3.10.12"
  }
 },
 "nbformat": 4,
 "nbformat_minor": 2
}
